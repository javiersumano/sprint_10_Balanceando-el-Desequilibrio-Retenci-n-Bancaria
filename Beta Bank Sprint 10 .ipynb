{
 "cells": [
  {
   "cell_type": "markdown",
   "metadata": {},
   "source": [
    "# DESCRIPCIÓN\n",
    "\n",
    "Beta Bank ha detectado una disminución progresiva en su base de clientes, observando que, mes a mes, algunos de ellos han dejado de utilizar sus servicios. Los banqueros han identificado que retener a los clientes actuales es más rentable que adquirir nuevos.\n",
    "\n",
    "El objetivo de este proyecto es desarrollar un modelo que prediga con precisión si un cliente está a punto de abandonar el banco, utilizando datos históricos sobre el comportamiento de los clientes y la finalización de sus contratos. Para evaluar el rendimiento del modelo, se utilizará la métrica F1, buscando alcanzar un valor mínimo de 0.59 en el conjunto de prueba.\n",
    "\n",
    "Adicionalmente, se medirá el área bajo la curva (AUC-ROC) y se comparará con el valor de F1 para analizar su efectividad en la clasificación de cliente\n",
    "\n"
   ]
  },
  {
   "attachments": {
    "AUC-ROC-Curve.webp": {
     "image/webp": "[encoded data removed]"
    }
   },
   "cell_type": "markdown",
   "metadata": {},
   "source": [
    "![AUC-ROC-Curve.webp](attachment:AUC-ROC-Curve.webp)"
   ]
  },
  {
   "cell_type": "markdown",
   "metadata": {},
   "source": [
    "# 1 Dirección de los datos. \n",
    "\n",
    "En este proyecto se trabajara con el archivo de datos `/datasets/Churn.csv`, que contiene información histórica sobre el comportamiento de los clientes y la finalización de sus contratos con Beta Bank. A continuación se describe cada columna del conjunto de datos:\n",
    "\n",
    "- `'RowNumber'` : Índice del conjunto de datos.\n",
    "- `'CustomerId'`: Identificador único de cada cliente.\n",
    "- `'Surname'`: Apellido del cliente.\n",
    "- `'CreditScore'`: Puntuación de crédito del cliente.\n",
    "- `'Geography'`: País de residencia del cliente.\n",
    "- `'Gender'`: Género del cliente.\n",
    "- `'Age'`: Edad del cliente.\n",
    "- `'Tenure'`: Duración del depósito a plazo fijo del cliente (en años).\n",
    "- `'Balance'`: Saldo de la cuenta del cliente.\n",
    "- `'NumOfProducts'`: Número de productos bancarios que utiliza el cliente.\n",
    "- `'HasCrCard'`: Indica si el cliente posee una tarjeta de crédito (1 - sí; 0 - no).\n",
    "- `'IsActiveMember'`: Indica si el cliente es un miembro activo (1 - sí; 0 - no).\n",
    "- `'EstimatedSalary'`: Salario estimado del cliente.\n",
    "\n",
    "   **Objetivo:**\n",
    "\n",
    "- `'Exited'`: El cliente se ha ido (1 - sí; 0 - no)"
   ]
  },
  {
   "cell_type": "markdown",
   "metadata": {},
   "source": [
    "# 1.1 Inicialización."
   ]
  },
  {
   "cell_type": "code",
   "execution_count": 1,
   "metadata": {},
   "outputs": [
    {
     "name": "stdout",
     "output_type": "stream",
     "text": [
      "Requirement already satisfied: imblearn in /opt/conda/lib/python3.10/site-packages (0.0)\n",
      "Requirement already satisfied: imbalanced-learn in /opt/conda/lib/python3.10/site-packages (from imblearn) (0.12.4)\n",
      "Requirement already satisfied: scipy>=1.5.0 in /opt/conda/lib/python3.10/site-packages (from imbalanced-learn->imblearn) (1.14.1)\n",
      "Requirement already satisfied: threadpoolctl>=2.0.0 in /opt/conda/lib/python3.10/site-packages (from imbalanced-learn->imblearn) (3.5.0)\n",
      "Requirement already satisfied: numpy>=1.17.3 in /opt/conda/lib/python3.10/site-packages (from imbalanced-learn->imblearn) (2.1.2)\n",
      "Requirement already satisfied: joblib>=1.1.1 in /opt/conda/lib/python3.10/site-packages (from imbalanced-learn->imblearn) (1.4.2)\n",
      "Requirement already satisfied: scikit-learn>=1.0.2 in /opt/conda/lib/python3.10/site-packages (from imbalanced-learn->imblearn) (1.5.2)\n"
     ]
    }
   ],
   "source": [
    "!pip install -U imblearn"
   ]
  },
  {
   "cell_type": "code",
   "execution_count": 2,
   "metadata": {},
   "outputs": [
    {
     "ename": "ModuleNotFoundError",
     "evalue": "No module named 'imblearn'",
     "output_type": "error",
     "traceback": [
      "\u001b[0;31m---------------------------------------------------------------------------\u001b[0m",
      "\u001b[0;31mModuleNotFoundError\u001b[0m                       Traceback (most recent call last)",
      "Cell \u001b[0;32mIn[2], line 29\u001b[0m\n\u001b[1;32m     25\u001b[0m \u001b[38;5;28;01mfrom\u001b[39;00m \u001b[38;5;21;01msklearn\u001b[39;00m\u001b[38;5;21;01m.\u001b[39;00m\u001b[38;5;21;01mpreprocessing\u001b[39;00m \u001b[38;5;28;01mimport\u001b[39;00m StandardScaler\n\u001b[1;32m     27\u001b[0m \u001b[38;5;28;01mfrom\u001b[39;00m \u001b[38;5;21;01msklearn\u001b[39;00m\u001b[38;5;21;01m.\u001b[39;00m\u001b[38;5;21;01mutils\u001b[39;00m \u001b[38;5;28;01mimport\u001b[39;00m resample\n\u001b[0;32m---> 29\u001b[0m \u001b[38;5;28;01mfrom\u001b[39;00m \u001b[38;5;21;01mimblearn\u001b[39;00m \u001b[38;5;28;01mimport\u001b[39;00m over_sampling\n\u001b[1;32m     30\u001b[0m \u001b[38;5;28;01mfrom\u001b[39;00m \u001b[38;5;21;01mimblearn\u001b[39;00m\u001b[38;5;21;01m.\u001b[39;00m\u001b[38;5;21;01mover_sampling\u001b[39;00m \u001b[38;5;28;01mimport\u001b[39;00m SMOTE\n",
      "\u001b[0;31mModuleNotFoundError\u001b[0m: No module named 'imblearn'"
     ]
    }
   ],
   "source": [
    "# Cargar todas las librerías a usar en el proyecto. \n",
    "import pandas as pd\n",
    "import numpy as np\n",
    "import matplotlib.pyplot as plt\n",
    "import seaborn as sns\n",
    "\n",
    "\n",
    "# Importar la función train_test_split desde la librería sklearn \n",
    "from sklearn.model_selection import train_test_split\n",
    "\n",
    "# Importar la función del Bosque aleatorio \n",
    "from sklearn.ensemble import RandomForestClassifier\n",
    "\n",
    "\n",
    "#Importar la función de Valor F1\n",
    "from sklearn.metrics import f1_score\n",
    "\n",
    "#Importar la función de Curva AUC-ROC\n",
    "from sklearn.metrics import roc_auc_score\n",
    "\n",
    "#Importar la función de la curva ROC\n",
    "from sklearn.metrics import roc_curve\n",
    "\n",
    "#Importar la función de Escalado de características\n",
    "from sklearn.preprocessing import StandardScaler\n",
    "\n",
    "from sklearn.utils import resample\n",
    "\n",
    "from imblearn import over_sampling\n",
    "from imblearn.over_sampling import SMOTE"
   ]
  },
  {
   "cell_type": "markdown",
   "metadata": {},
   "source": [
    "# 1.2 Cargar los datos. "
   ]
  },
  {
   "cell_type": "code",
   "execution_count": 3,
   "metadata": {},
   "outputs": [],
   "source": [
    "# Carga los archivos\n",
    "data = pd.read_csv('/datasets/Churn.csv')"
   ]
  },
  {
   "cell_type": "markdown",
   "metadata": {},
   "source": [
    "# 1.3 Análisis de los datos"
   ]
  },
  {
   "cell_type": "code",
   "execution_count": 4,
   "metadata": {},
   "outputs": [
    {
     "name": "stdout",
     "output_type": "stream",
     "text": [
      "<class 'pandas.core.frame.DataFrame'>\n",
      "RangeIndex: 10000 entries, 0 to 9999\n",
      "Data columns (total 14 columns):\n",
      " #   Column           Non-Null Count  Dtype  \n",
      "---  ------           --------------  -----  \n",
      " 0   RowNumber        10000 non-null  int64  \n",
      " 1   CustomerId       10000 non-null  int64  \n",
      " 2   Surname          10000 non-null  object \n",
      " 3   CreditScore      10000 non-null  int64  \n",
      " 4   Geography        10000 non-null  object \n",
      " 5   Gender           10000 non-null  object \n",
      " 6   Age              10000 non-null  int64  \n",
      " 7   Tenure           9091 non-null   float64\n",
      " 8   Balance          10000 non-null  float64\n",
      " 9   NumOfProducts    10000 non-null  int64  \n",
      " 10  HasCrCard        10000 non-null  int64  \n",
      " 11  IsActiveMember   10000 non-null  int64  \n",
      " 12  EstimatedSalary  10000 non-null  float64\n",
      " 13  Exited           10000 non-null  int64  \n",
      "dtypes: float64(3), int64(8), object(3)\n",
      "memory usage: 1.1+ MB\n"
     ]
    },
    {
     "data": {
      "text/html": [
       "<div>\n",
       "<style scoped>\n",
       "    .dataframe tbody tr th:only-of-type {\n",
       "        vertical-align: middle;\n",
       "    }\n",
       "\n",
       "    .dataframe tbody tr th {\n",
       "        vertical-align: top;\n",
       "    }\n",
       "\n",
       "    .dataframe thead th {\n",
       "        text-align: right;\n",
       "    }\n",
       "</style>\n",
       "<table border=\"1\" class=\"dataframe\">\n",
       "  <thead>\n",
       "    <tr style=\"text-align: right;\">\n",
       "      <th></th>\n",
       "      <th>RowNumber</th>\n",
       "      <th>CustomerId</th>\n",
       "      <th>CreditScore</th>\n",
       "      <th>Age</th>\n",
       "      <th>Tenure</th>\n",
       "      <th>Balance</th>\n",
       "      <th>NumOfProducts</th>\n",
       "      <th>HasCrCard</th>\n",
       "      <th>IsActiveMember</th>\n",
       "      <th>EstimatedSalary</th>\n",
       "      <th>Exited</th>\n",
       "    </tr>\n",
       "  </thead>\n",
       "  <tbody>\n",
       "    <tr>\n",
       "      <th>count</th>\n",
       "      <td>10000.00000</td>\n",
       "      <td>1.000000e+04</td>\n",
       "      <td>10000.000000</td>\n",
       "      <td>10000.000000</td>\n",
       "      <td>9091.000000</td>\n",
       "      <td>10000.000000</td>\n",
       "      <td>10000.000000</td>\n",
       "      <td>10000.00000</td>\n",
       "      <td>10000.000000</td>\n",
       "      <td>10000.000000</td>\n",
       "      <td>10000.000000</td>\n",
       "    </tr>\n",
       "    <tr>\n",
       "      <th>mean</th>\n",
       "      <td>5000.50000</td>\n",
       "      <td>1.569094e+07</td>\n",
       "      <td>650.528800</td>\n",
       "      <td>38.921800</td>\n",
       "      <td>4.997690</td>\n",
       "      <td>76485.889288</td>\n",
       "      <td>1.530200</td>\n",
       "      <td>0.70550</td>\n",
       "      <td>0.515100</td>\n",
       "      <td>100090.239881</td>\n",
       "      <td>0.203700</td>\n",
       "    </tr>\n",
       "    <tr>\n",
       "      <th>std</th>\n",
       "      <td>2886.89568</td>\n",
       "      <td>7.193619e+04</td>\n",
       "      <td>96.653299</td>\n",
       "      <td>10.487806</td>\n",
       "      <td>2.894723</td>\n",
       "      <td>62397.405202</td>\n",
       "      <td>0.581654</td>\n",
       "      <td>0.45584</td>\n",
       "      <td>0.499797</td>\n",
       "      <td>57510.492818</td>\n",
       "      <td>0.402769</td>\n",
       "    </tr>\n",
       "    <tr>\n",
       "      <th>min</th>\n",
       "      <td>1.00000</td>\n",
       "      <td>1.556570e+07</td>\n",
       "      <td>350.000000</td>\n",
       "      <td>18.000000</td>\n",
       "      <td>0.000000</td>\n",
       "      <td>0.000000</td>\n",
       "      <td>1.000000</td>\n",
       "      <td>0.00000</td>\n",
       "      <td>0.000000</td>\n",
       "      <td>11.580000</td>\n",
       "      <td>0.000000</td>\n",
       "    </tr>\n",
       "    <tr>\n",
       "      <th>25%</th>\n",
       "      <td>2500.75000</td>\n",
       "      <td>1.562853e+07</td>\n",
       "      <td>584.000000</td>\n",
       "      <td>32.000000</td>\n",
       "      <td>2.000000</td>\n",
       "      <td>0.000000</td>\n",
       "      <td>1.000000</td>\n",
       "      <td>0.00000</td>\n",
       "      <td>0.000000</td>\n",
       "      <td>51002.110000</td>\n",
       "      <td>0.000000</td>\n",
       "    </tr>\n",
       "    <tr>\n",
       "      <th>50%</th>\n",
       "      <td>5000.50000</td>\n",
       "      <td>1.569074e+07</td>\n",
       "      <td>652.000000</td>\n",
       "      <td>37.000000</td>\n",
       "      <td>5.000000</td>\n",
       "      <td>97198.540000</td>\n",
       "      <td>1.000000</td>\n",
       "      <td>1.00000</td>\n",
       "      <td>1.000000</td>\n",
       "      <td>100193.915000</td>\n",
       "      <td>0.000000</td>\n",
       "    </tr>\n",
       "    <tr>\n",
       "      <th>75%</th>\n",
       "      <td>7500.25000</td>\n",
       "      <td>1.575323e+07</td>\n",
       "      <td>718.000000</td>\n",
       "      <td>44.000000</td>\n",
       "      <td>7.000000</td>\n",
       "      <td>127644.240000</td>\n",
       "      <td>2.000000</td>\n",
       "      <td>1.00000</td>\n",
       "      <td>1.000000</td>\n",
       "      <td>149388.247500</td>\n",
       "      <td>0.000000</td>\n",
       "    </tr>\n",
       "    <tr>\n",
       "      <th>max</th>\n",
       "      <td>10000.00000</td>\n",
       "      <td>1.581569e+07</td>\n",
       "      <td>850.000000</td>\n",
       "      <td>92.000000</td>\n",
       "      <td>10.000000</td>\n",
       "      <td>250898.090000</td>\n",
       "      <td>4.000000</td>\n",
       "      <td>1.00000</td>\n",
       "      <td>1.000000</td>\n",
       "      <td>199992.480000</td>\n",
       "      <td>1.000000</td>\n",
       "    </tr>\n",
       "  </tbody>\n",
       "</table>\n",
       "</div>"
      ],
      "text/plain": [
       "         RowNumber    CustomerId   CreditScore           Age       Tenure  \\\n",
       "count  10000.00000  1.000000e+04  10000.000000  10000.000000  9091.000000   \n",
       "mean    5000.50000  1.569094e+07    650.528800     38.921800     4.997690   \n",
       "std     2886.89568  7.193619e+04     96.653299     10.487806     2.894723   \n",
       "min        1.00000  1.556570e+07    350.000000     18.000000     0.000000   \n",
       "25%     2500.75000  1.562853e+07    584.000000     32.000000     2.000000   \n",
       "50%     5000.50000  1.569074e+07    652.000000     37.000000     5.000000   \n",
       "75%     7500.25000  1.575323e+07    718.000000     44.000000     7.000000   \n",
       "max    10000.00000  1.581569e+07    850.000000     92.000000    10.000000   \n",
       "\n",
       "             Balance  NumOfProducts    HasCrCard  IsActiveMember  \\\n",
       "count   10000.000000   10000.000000  10000.00000    10000.000000   \n",
       "mean    76485.889288       1.530200      0.70550        0.515100   \n",
       "std     62397.405202       0.581654      0.45584        0.499797   \n",
       "min         0.000000       1.000000      0.00000        0.000000   \n",
       "25%         0.000000       1.000000      0.00000        0.000000   \n",
       "50%     97198.540000       1.000000      1.00000        1.000000   \n",
       "75%    127644.240000       2.000000      1.00000        1.000000   \n",
       "max    250898.090000       4.000000      1.00000        1.000000   \n",
       "\n",
       "       EstimatedSalary        Exited  \n",
       "count     10000.000000  10000.000000  \n",
       "mean     100090.239881      0.203700  \n",
       "std       57510.492818      0.402769  \n",
       "min          11.580000      0.000000  \n",
       "25%       51002.110000      0.000000  \n",
       "50%      100193.915000      0.000000  \n",
       "75%      149388.247500      0.000000  \n",
       "max      199992.480000      1.000000  "
      ]
     },
     "execution_count": 4,
     "metadata": {},
     "output_type": "execute_result"
    }
   ],
   "source": [
    "#Obtener la inofrmación de las bases de datos  con la cual se esta trabajando \n",
    "data.info()\n",
    "data.describe()"
   ]
  },
  {
   "cell_type": "code",
   "execution_count": 5,
   "metadata": {},
   "outputs": [
    {
     "data": {
      "text/html": [
       "<div>\n",
       "<style scoped>\n",
       "    .dataframe tbody tr th:only-of-type {\n",
       "        vertical-align: middle;\n",
       "    }\n",
       "\n",
       "    .dataframe tbody tr th {\n",
       "        vertical-align: top;\n",
       "    }\n",
       "\n",
       "    .dataframe thead th {\n",
       "        text-align: right;\n",
       "    }\n",
       "</style>\n",
       "<table border=\"1\" class=\"dataframe\">\n",
       "  <thead>\n",
       "    <tr style=\"text-align: right;\">\n",
       "      <th></th>\n",
       "      <th>RowNumber</th>\n",
       "      <th>CustomerId</th>\n",
       "      <th>Surname</th>\n",
       "      <th>CreditScore</th>\n",
       "      <th>Geography</th>\n",
       "      <th>Gender</th>\n",
       "      <th>Age</th>\n",
       "      <th>Tenure</th>\n",
       "      <th>Balance</th>\n",
       "      <th>NumOfProducts</th>\n",
       "      <th>HasCrCard</th>\n",
       "      <th>IsActiveMember</th>\n",
       "      <th>EstimatedSalary</th>\n",
       "      <th>Exited</th>\n",
       "    </tr>\n",
       "  </thead>\n",
       "  <tbody>\n",
       "    <tr>\n",
       "      <th>0</th>\n",
       "      <td>1</td>\n",
       "      <td>15634602</td>\n",
       "      <td>Hargrave</td>\n",
       "      <td>619</td>\n",
       "      <td>France</td>\n",
       "      <td>Female</td>\n",
       "      <td>42</td>\n",
       "      <td>2.0</td>\n",
       "      <td>0.00</td>\n",
       "      <td>1</td>\n",
       "      <td>1</td>\n",
       "      <td>1</td>\n",
       "      <td>101348.88</td>\n",
       "      <td>1</td>\n",
       "    </tr>\n",
       "    <tr>\n",
       "      <th>1</th>\n",
       "      <td>2</td>\n",
       "      <td>15647311</td>\n",
       "      <td>Hill</td>\n",
       "      <td>608</td>\n",
       "      <td>Spain</td>\n",
       "      <td>Female</td>\n",
       "      <td>41</td>\n",
       "      <td>1.0</td>\n",
       "      <td>83807.86</td>\n",
       "      <td>1</td>\n",
       "      <td>0</td>\n",
       "      <td>1</td>\n",
       "      <td>112542.58</td>\n",
       "      <td>0</td>\n",
       "    </tr>\n",
       "    <tr>\n",
       "      <th>2</th>\n",
       "      <td>3</td>\n",
       "      <td>15619304</td>\n",
       "      <td>Onio</td>\n",
       "      <td>502</td>\n",
       "      <td>France</td>\n",
       "      <td>Female</td>\n",
       "      <td>42</td>\n",
       "      <td>8.0</td>\n",
       "      <td>159660.80</td>\n",
       "      <td>3</td>\n",
       "      <td>1</td>\n",
       "      <td>0</td>\n",
       "      <td>113931.57</td>\n",
       "      <td>1</td>\n",
       "    </tr>\n",
       "    <tr>\n",
       "      <th>3</th>\n",
       "      <td>4</td>\n",
       "      <td>15701354</td>\n",
       "      <td>Boni</td>\n",
       "      <td>699</td>\n",
       "      <td>France</td>\n",
       "      <td>Female</td>\n",
       "      <td>39</td>\n",
       "      <td>1.0</td>\n",
       "      <td>0.00</td>\n",
       "      <td>2</td>\n",
       "      <td>0</td>\n",
       "      <td>0</td>\n",
       "      <td>93826.63</td>\n",
       "      <td>0</td>\n",
       "    </tr>\n",
       "    <tr>\n",
       "      <th>4</th>\n",
       "      <td>5</td>\n",
       "      <td>15737888</td>\n",
       "      <td>Mitchell</td>\n",
       "      <td>850</td>\n",
       "      <td>Spain</td>\n",
       "      <td>Female</td>\n",
       "      <td>43</td>\n",
       "      <td>2.0</td>\n",
       "      <td>125510.82</td>\n",
       "      <td>1</td>\n",
       "      <td>1</td>\n",
       "      <td>1</td>\n",
       "      <td>79084.10</td>\n",
       "      <td>0</td>\n",
       "    </tr>\n",
       "  </tbody>\n",
       "</table>\n",
       "</div>"
      ],
      "text/plain": [
       "   RowNumber  CustomerId   Surname  CreditScore Geography  Gender  Age  \\\n",
       "0          1    15634602  Hargrave          619    France  Female   42   \n",
       "1          2    15647311      Hill          608     Spain  Female   41   \n",
       "2          3    15619304      Onio          502    France  Female   42   \n",
       "3          4    15701354      Boni          699    France  Female   39   \n",
       "4          5    15737888  Mitchell          850     Spain  Female   43   \n",
       "\n",
       "   Tenure    Balance  NumOfProducts  HasCrCard  IsActiveMember  \\\n",
       "0     2.0       0.00              1          1               1   \n",
       "1     1.0   83807.86              1          0               1   \n",
       "2     8.0  159660.80              3          1               0   \n",
       "3     1.0       0.00              2          0               0   \n",
       "4     2.0  125510.82              1          1               1   \n",
       "\n",
       "   EstimatedSalary  Exited  \n",
       "0        101348.88       1  \n",
       "1        112542.58       0  \n",
       "2        113931.57       1  \n",
       "3         93826.63       0  \n",
       "4         79084.10       0  "
      ]
     },
     "execution_count": 5,
     "metadata": {},
     "output_type": "execute_result"
    }
   ],
   "source": [
    "# Obtener las 10 primeras filas de las bases de datos \n",
    "data.head()"
   ]
  },
  {
   "cell_type": "markdown",
   "metadata": {},
   "source": [
    "# 1.4  Verificación de los datos."
   ]
  },
  {
   "cell_type": "code",
   "execution_count": 6,
   "metadata": {},
   "outputs": [
    {
     "name": "stdout",
     "output_type": "stream",
     "text": [
      "Se encontro que hay: 0 duplicados en el DataFrame de Churn\n"
     ]
    }
   ],
   "source": [
    "#Verificación de que no haya duplicado. \n",
    "\n",
    "duplicados= data.duplicated().sum()\n",
    "print(f'Se encontro que hay: {duplicados} duplicados en el DataFrame de Churn')"
   ]
  },
  {
   "cell_type": "code",
   "execution_count": 7,
   "metadata": {},
   "outputs": [
    {
     "name": "stdout",
     "output_type": "stream",
     "text": [
      "RowNumber            0\n",
      "CustomerId           0\n",
      "Surname              0\n",
      "CreditScore          0\n",
      "Geography            0\n",
      "Gender               0\n",
      "Age                  0\n",
      "Tenure             909\n",
      "Balance              0\n",
      "NumOfProducts        0\n",
      "HasCrCard            0\n",
      "IsActiveMember       0\n",
      "EstimatedSalary      0\n",
      "Exited               0\n",
      "dtype: int64\n"
     ]
    }
   ],
   "source": [
    "#comprobar los valores  ausentes \n",
    "data_mis = data.isna().sum()\n",
    "print(data_mis)"
   ]
  },
  {
   "cell_type": "code",
   "execution_count": 8,
   "metadata": {},
   "outputs": [
    {
     "data": {
      "image/png": "[encoded data removed]",
      "text/plain": [
       "<Figure size 1400x600 with 2 Axes>"
      ]
     },
     "metadata": {},
     "output_type": "display_data"
    }
   ],
   "source": [
    "# Comparar Tenure antes y después de la imputación\n",
    "\n",
    "# Crear datos de ejemplo para antes\n",
    "tenure_before = data['Tenure'].copy()  \n",
    "\n",
    "# Imputación de valores faltantes en 'Tenure' usando la mediana\n",
    "median_tenure = data['Tenure'].median()\n",
    "data['Tenure'].fillna(median_tenure, inplace=True)\n",
    "\n",
    "# Crear datos de ejemplo para después\n",
    "tenure_after = data['Tenure'].copy()  \n",
    "\n",
    "# Crear la figura con subplots\n",
    "fig, axes = plt.subplots(1, 2, figsize=(14, 6))\n",
    "\n",
    "# Gráfico de barras para Tenure antes de la imputación\n",
    "sns.countplot(x=tenure_before, palette='pastel',  ax=axes[0])\n",
    "axes[0].set_title('Frecuencia de Tenure antes de la imputación')\n",
    "axes[0].set_xlabel('Tenure (Años)')\n",
    "axes[0].set_ylabel('Frecuencia')\n",
    "\n",
    "# Gráfico de barras para Tenure después de la imputación\n",
    "sns.countplot(x=tenure_after, palette='deep', ax=axes[1])\n",
    "axes[1].set_title('Frecuencia de Tenure después de la imputación')\n",
    "axes[1].set_xlabel('Tenure (Años)')\n",
    "axes[1].set_ylabel('Frecuencia')\n",
    "\n",
    "plt.tight_layout()\n",
    "plt.show()\n"
   ]
  },
  {
   "cell_type": "markdown",
   "metadata": {},
   "source": [
    "Al realizar la imputacón a `Ternure`se pudo observar un antes y después con la ayuda de los gráficos. En cual se utilizó la media para llenar los **909** datos faltantes. Con esto nos ayudara a tener mejor estudio sobre los datos y nos dara mayot exactitud. "
   ]
  },
  {
   "cell_type": "code",
   "execution_count": 9,
   "metadata": {},
   "outputs": [],
   "source": [
    "# Eliminar columnas irrelevantes\n",
    "data = data.drop(columns=['RowNumber', 'CustomerId', 'Surname'])\n"
   ]
  },
  {
   "cell_type": "markdown",
   "metadata": {},
   "source": [
    "# 2. Preparación de los datos\n"
   ]
  },
  {
   "cell_type": "markdown",
   "metadata": {},
   "source": [
    "# 2.1 Codificación One-Hot"
   ]
  },
  {
   "cell_type": "markdown",
   "metadata": {},
   "source": [
    "Para la codificación One-Hot se visualizó que las columnas de 'Geography' y 'Gender' son variables categóricas."
   ]
  },
  {
   "cell_type": "code",
   "execution_count": 10,
   "metadata": {},
   "outputs": [
    {
     "data": {
      "text/html": [
       "<div>\n",
       "<style scoped>\n",
       "    .dataframe tbody tr th:only-of-type {\n",
       "        vertical-align: middle;\n",
       "    }\n",
       "\n",
       "    .dataframe tbody tr th {\n",
       "        vertical-align: top;\n",
       "    }\n",
       "\n",
       "    .dataframe thead th {\n",
       "        text-align: right;\n",
       "    }\n",
       "</style>\n",
       "<table border=\"1\" class=\"dataframe\">\n",
       "  <thead>\n",
       "    <tr style=\"text-align: right;\">\n",
       "      <th></th>\n",
       "      <th>CreditScore</th>\n",
       "      <th>Age</th>\n",
       "      <th>Tenure</th>\n",
       "      <th>Balance</th>\n",
       "      <th>NumOfProducts</th>\n",
       "      <th>HasCrCard</th>\n",
       "      <th>IsActiveMember</th>\n",
       "      <th>EstimatedSalary</th>\n",
       "      <th>Exited</th>\n",
       "      <th>Geography_Germany</th>\n",
       "      <th>Geography_Spain</th>\n",
       "      <th>Gender_Male</th>\n",
       "    </tr>\n",
       "  </thead>\n",
       "  <tbody>\n",
       "    <tr>\n",
       "      <th>0</th>\n",
       "      <td>619</td>\n",
       "      <td>42</td>\n",
       "      <td>2.0</td>\n",
       "      <td>0.00</td>\n",
       "      <td>1</td>\n",
       "      <td>1</td>\n",
       "      <td>1</td>\n",
       "      <td>101348.88</td>\n",
       "      <td>1</td>\n",
       "      <td>0</td>\n",
       "      <td>0</td>\n",
       "      <td>0</td>\n",
       "    </tr>\n",
       "    <tr>\n",
       "      <th>1</th>\n",
       "      <td>608</td>\n",
       "      <td>41</td>\n",
       "      <td>1.0</td>\n",
       "      <td>83807.86</td>\n",
       "      <td>1</td>\n",
       "      <td>0</td>\n",
       "      <td>1</td>\n",
       "      <td>112542.58</td>\n",
       "      <td>0</td>\n",
       "      <td>0</td>\n",
       "      <td>1</td>\n",
       "      <td>0</td>\n",
       "    </tr>\n",
       "    <tr>\n",
       "      <th>2</th>\n",
       "      <td>502</td>\n",
       "      <td>42</td>\n",
       "      <td>8.0</td>\n",
       "      <td>159660.80</td>\n",
       "      <td>3</td>\n",
       "      <td>1</td>\n",
       "      <td>0</td>\n",
       "      <td>113931.57</td>\n",
       "      <td>1</td>\n",
       "      <td>0</td>\n",
       "      <td>0</td>\n",
       "      <td>0</td>\n",
       "    </tr>\n",
       "    <tr>\n",
       "      <th>3</th>\n",
       "      <td>699</td>\n",
       "      <td>39</td>\n",
       "      <td>1.0</td>\n",
       "      <td>0.00</td>\n",
       "      <td>2</td>\n",
       "      <td>0</td>\n",
       "      <td>0</td>\n",
       "      <td>93826.63</td>\n",
       "      <td>0</td>\n",
       "      <td>0</td>\n",
       "      <td>0</td>\n",
       "      <td>0</td>\n",
       "    </tr>\n",
       "    <tr>\n",
       "      <th>4</th>\n",
       "      <td>850</td>\n",
       "      <td>43</td>\n",
       "      <td>2.0</td>\n",
       "      <td>125510.82</td>\n",
       "      <td>1</td>\n",
       "      <td>1</td>\n",
       "      <td>1</td>\n",
       "      <td>79084.10</td>\n",
       "      <td>0</td>\n",
       "      <td>0</td>\n",
       "      <td>1</td>\n",
       "      <td>0</td>\n",
       "    </tr>\n",
       "    <tr>\n",
       "      <th>...</th>\n",
       "      <td>...</td>\n",
       "      <td>...</td>\n",
       "      <td>...</td>\n",
       "      <td>...</td>\n",
       "      <td>...</td>\n",
       "      <td>...</td>\n",
       "      <td>...</td>\n",
       "      <td>...</td>\n",
       "      <td>...</td>\n",
       "      <td>...</td>\n",
       "      <td>...</td>\n",
       "      <td>...</td>\n",
       "    </tr>\n",
       "    <tr>\n",
       "      <th>9995</th>\n",
       "      <td>771</td>\n",
       "      <td>39</td>\n",
       "      <td>5.0</td>\n",
       "      <td>0.00</td>\n",
       "      <td>2</td>\n",
       "      <td>1</td>\n",
       "      <td>0</td>\n",
       "      <td>96270.64</td>\n",
       "      <td>0</td>\n",
       "      <td>0</td>\n",
       "      <td>0</td>\n",
       "      <td>1</td>\n",
       "    </tr>\n",
       "    <tr>\n",
       "      <th>9996</th>\n",
       "      <td>516</td>\n",
       "      <td>35</td>\n",
       "      <td>10.0</td>\n",
       "      <td>57369.61</td>\n",
       "      <td>1</td>\n",
       "      <td>1</td>\n",
       "      <td>1</td>\n",
       "      <td>101699.77</td>\n",
       "      <td>0</td>\n",
       "      <td>0</td>\n",
       "      <td>0</td>\n",
       "      <td>1</td>\n",
       "    </tr>\n",
       "    <tr>\n",
       "      <th>9997</th>\n",
       "      <td>709</td>\n",
       "      <td>36</td>\n",
       "      <td>7.0</td>\n",
       "      <td>0.00</td>\n",
       "      <td>1</td>\n",
       "      <td>0</td>\n",
       "      <td>1</td>\n",
       "      <td>42085.58</td>\n",
       "      <td>1</td>\n",
       "      <td>0</td>\n",
       "      <td>0</td>\n",
       "      <td>0</td>\n",
       "    </tr>\n",
       "    <tr>\n",
       "      <th>9998</th>\n",
       "      <td>772</td>\n",
       "      <td>42</td>\n",
       "      <td>3.0</td>\n",
       "      <td>75075.31</td>\n",
       "      <td>2</td>\n",
       "      <td>1</td>\n",
       "      <td>0</td>\n",
       "      <td>92888.52</td>\n",
       "      <td>1</td>\n",
       "      <td>1</td>\n",
       "      <td>0</td>\n",
       "      <td>1</td>\n",
       "    </tr>\n",
       "    <tr>\n",
       "      <th>9999</th>\n",
       "      <td>792</td>\n",
       "      <td>28</td>\n",
       "      <td>5.0</td>\n",
       "      <td>130142.79</td>\n",
       "      <td>1</td>\n",
       "      <td>1</td>\n",
       "      <td>0</td>\n",
       "      <td>38190.78</td>\n",
       "      <td>0</td>\n",
       "      <td>0</td>\n",
       "      <td>0</td>\n",
       "      <td>0</td>\n",
       "    </tr>\n",
       "  </tbody>\n",
       "</table>\n",
       "<p>10000 rows × 12 columns</p>\n",
       "</div>"
      ],
      "text/plain": [
       "      CreditScore  Age  Tenure    Balance  NumOfProducts  HasCrCard  \\\n",
       "0             619   42     2.0       0.00              1          1   \n",
       "1             608   41     1.0   83807.86              1          0   \n",
       "2             502   42     8.0  159660.80              3          1   \n",
       "3             699   39     1.0       0.00              2          0   \n",
       "4             850   43     2.0  125510.82              1          1   \n",
       "...           ...  ...     ...        ...            ...        ...   \n",
       "9995          771   39     5.0       0.00              2          1   \n",
       "9996          516   35    10.0   57369.61              1          1   \n",
       "9997          709   36     7.0       0.00              1          0   \n",
       "9998          772   42     3.0   75075.31              2          1   \n",
       "9999          792   28     5.0  130142.79              1          1   \n",
       "\n",
       "      IsActiveMember  EstimatedSalary  Exited  Geography_Germany  \\\n",
       "0                  1        101348.88       1                  0   \n",
       "1                  1        112542.58       0                  0   \n",
       "2                  0        113931.57       1                  0   \n",
       "3                  0         93826.63       0                  0   \n",
       "4                  1         79084.10       0                  0   \n",
       "...              ...              ...     ...                ...   \n",
       "9995               0         96270.64       0                  0   \n",
       "9996               1        101699.77       0                  0   \n",
       "9997               1         42085.58       1                  0   \n",
       "9998               0         92888.52       1                  1   \n",
       "9999               0         38190.78       0                  0   \n",
       "\n",
       "      Geography_Spain  Gender_Male  \n",
       "0                   0            0  \n",
       "1                   1            0  \n",
       "2                   0            0  \n",
       "3                   0            0  \n",
       "4                   1            0  \n",
       "...               ...          ...  \n",
       "9995                0            1  \n",
       "9996                0            1  \n",
       "9997                0            0  \n",
       "9998                0            1  \n",
       "9999                0            0  \n",
       "\n",
       "[10000 rows x 12 columns]"
      ]
     },
     "execution_count": 10,
     "metadata": {},
     "output_type": "execute_result"
    }
   ],
   "source": [
    "data_one =  pd.get_dummies(data, columns=['Geography', 'Gender'], drop_first=True)\n",
    "data_one"
   ]
  },
  {
   "cell_type": "markdown",
   "metadata": {},
   "source": [
    "# 2.2 Escalado de características"
   ]
  },
  {
   "cell_type": "code",
   "execution_count": 11,
   "metadata": {},
   "outputs": [
    {
     "name": "stdout",
     "output_type": "stream",
     "text": [
      "      CreditScore       Age    Tenure   Balance  NumOfProducts  HasCrCard  \\\n",
      "226      0.442805 -0.841274  1.446098 -1.224577       0.817772          1   \n",
      "7756    -0.310897 -0.270730  0.719099  0.641783      -0.896874          1   \n",
      "2065    -0.259274 -0.556002  1.082599 -1.224577       0.817772          1   \n",
      "2800     1.217157  1.155631  1.446098  1.290462       0.817772          1   \n",
      "7028     0.690598 -1.221637 -0.007900  1.142121      -0.896874          0   \n",
      "\n",
      "      IsActiveMember  EstimatedSalary  Geography_Germany  Geography_Spain  \\\n",
      "226                1        -1.269750                  0                0   \n",
      "7756               1         0.960396                  0                1   \n",
      "2065               0         0.661864                  0                0   \n",
      "2800               0        -1.039476                  0                0   \n",
      "7028               0        -0.851729                  1                0   \n",
      "\n",
      "      Gender_Male  \n",
      "226             0  \n",
      "7756            0  \n",
      "2065            1  \n",
      "2800            1  \n",
      "7028            1  \n",
      "      CreditScore       Age    Tenure   Balance  NumOfProducts  HasCrCard  \\\n",
      "226      0.442805 -0.841274  1.446098 -1.224577       0.817772          1   \n",
      "7756    -0.310897 -0.270730  0.719099  0.641783      -0.896874          1   \n",
      "2065    -0.259274 -0.556002  1.082599 -1.224577       0.817772          1   \n",
      "2800     1.217157  1.155631  1.446098  1.290462       0.817772          1   \n",
      "7028     0.690598 -1.221637 -0.007900  1.142121      -0.896874          0   \n",
      "\n",
      "      IsActiveMember  EstimatedSalary  Geography_Germany  Geography_Spain  \\\n",
      "226                1        -1.269750                  0                0   \n",
      "7756               1         0.960396                  0                1   \n",
      "2065               0         0.661864                  0                0   \n",
      "2800               0        -1.039476                  0                0   \n",
      "7028               0        -0.851729                  1                0   \n",
      "\n",
      "      Gender_Male  \n",
      "226             0  \n",
      "7756            0  \n",
      "2065            1  \n",
      "2800            1  \n",
      "7028            1  \n",
      "\n",
      "\n",
      "(7500, 11) (2500, 11)\n"
     ]
    }
   ],
   "source": [
    "# Separar target y features\n",
    "target = data_one['Exited']\n",
    "features = data_one.drop('Exited', axis=1)\n",
    "\n",
    "# Dividir los datos en conjuntos de entrenamiento y validación\n",
    "features_train, features_valid, target_train, target_valid = train_test_split(\n",
    "    features, target, test_size=0.25, random_state=12345\n",
    ")\n",
    "\n",
    "# Definir las columnas numéricas que serán escaladas\n",
    "numeric = ['CreditScore', 'Age', 'Tenure', 'Balance', 'NumOfProducts', 'EstimatedSalary']\n",
    "\n",
    "# Inicializar el escalador\n",
    "scaler = StandardScaler()\n",
    "\n",
    "# Ajustar el escalador solo en el conjunto de entrenamiento y transformarlo\n",
    "features_train_scaled = features_train.copy()  # Crear una copia para evitar SettingWithCopyWarning\n",
    "features_valid_scaled = features_valid.copy()\n",
    "\n",
    "# Escalar los datos\n",
    "scaler.fit(features_train_scaled[numeric])\n",
    "features_train_scaled[numeric] = scaler.transform(features_train_scaled[numeric])\n",
    "features_valid_scaled[numeric] = scaler.transform(features_valid_scaled[numeric])\n",
    "\n",
    "# Mostrar los primeros datos escalados\n",
    "print(features_train_scaled.head())\n",
    " \n",
    "# Mostrar los primeros datos escalados\n",
    "print(features_train_scaled.head())\n",
    "print()\n",
    "print()\n",
    "# Verificar los tamaños de los conjuntos\n",
    "print(features_train.shape, features_valid.shape)"
   ]
  },
  {
   "cell_type": "markdown",
   "metadata": {},
   "source": [
    "# 2.3 Investigación del Desequilibrio de Clases"
   ]
  },
  {
   "cell_type": "code",
   "execution_count": 12,
   "metadata": {},
   "outputs": [
    {
     "name": "stdout",
     "output_type": "stream",
     "text": [
      "0    0.7963\n",
      "1    0.2037\n",
      "Name: Exited, dtype: float64\n"
     ]
    }
   ],
   "source": [
    "# Comprobación del equilibrio de clases\n",
    "print(data_one['Exited'].value_counts(normalize=True))"
   ]
  },
  {
   "cell_type": "markdown",
   "metadata": {},
   "source": [
    "Este resultado indica que hay un desequilibrio de clases en los datos, ya que la mayoría de los clientes (alrededor del 80%) no han dejado el banco, mientras que solo el 20% sí lo ha hecho."
   ]
  },
  {
   "cell_type": "markdown",
   "metadata": {},
   "source": [
    "# 3 Modelo"
   ]
  },
  {
   "cell_type": "markdown",
   "metadata": {},
   "source": [
    "# 3.1 BOSQUE ALEATORIO "
   ]
  },
  {
   "cell_type": "code",
   "execution_count": 13,
   "metadata": {},
   "outputs": [
    {
     "name": "stdout",
     "output_type": "stream",
     "text": [
      "F1-score en el conjunto de validación: 0.5428109854604201\n",
      "AUC-ROC en el conjunto de validación: 0.8422171875\n",
      "F1-score en el conjunto de prueba: 0.5974395448079659\n",
      "AUC-ROC en el conjunto de prueba: 0.8510931839402429\n"
     ]
    }
   ],
   "source": [
    "data_one_encoded = pd.get_dummies(data_one, drop_first=True)\n",
    "\n",
    "# Dividir el dataset usando los datos codificados\n",
    "train_data, temp_data = train_test_split(data_one_encoded, test_size=0.4, random_state=54321)\n",
    "valid_data, test_data = train_test_split(temp_data, test_size=0.5, random_state=54321)\n",
    "\n",
    "# Separar las características (features) y la variable objetivo (target)\n",
    "features_train = train_data.drop(['Exited'], axis=1)\n",
    "target_train = train_data['Exited']\n",
    "features_valid = valid_data.drop(['Exited'], axis=1)\n",
    "target_valid = valid_data['Exited']\n",
    "features_test = test_data.drop(['Exited'], axis=1)\n",
    "target_test = test_data['Exited']\n",
    "\n",
    "# Escalar las características numéricas\n",
    "scaler = StandardScaler()\n",
    "numeric_features = ['CreditScore', 'Age', 'Tenure', 'Balance', 'NumOfProducts', 'EstimatedSalary']\n",
    "\n",
    "# Escalar los datos numéricos\n",
    "features_train[numeric_features] = scaler.fit_transform(features_train[numeric_features])\n",
    "features_valid[numeric_features] = scaler.transform(features_valid[numeric_features])\n",
    "features_test[numeric_features] = scaler.transform(features_test[numeric_features])\n",
    "\n",
    "\n",
    "# Entrenar el modelo\n",
    "best_model = RandomForestClassifier(n_estimators=40, random_state=54321)\n",
    "best_model.fit(features_train, target_train)\n",
    "\n",
    "\n",
    "# Evaluación en el conjunto de validación\n",
    "valid_predictions = best_model.predict(features_valid)\n",
    "valid_f1 = f1_score(target_valid, valid_predictions)\n",
    "valid_roc_auc = roc_auc_score(target_valid, best_model.predict_proba(features_valid)[:, 1])\n",
    "\n",
    "print(f\"F1-score en el conjunto de validación: {valid_f1}\")\n",
    "print(f\"AUC-ROC en el conjunto de validación: {valid_roc_auc}\")\n",
    "\n",
    "\n",
    "# Evaluar en el conjunto de prueba\n",
    "test_predictions = best_model.predict(features_test)\n",
    "test_f1 = f1_score(target_test, test_predictions)\n",
    "test_roc_auc = roc_auc_score(target_test, best_model.predict_proba(features_test)[:, 1])\n",
    "\n",
    "print(f\"F1-score en el conjunto de prueba: {test_f1}\")\n",
    "print(f\"AUC-ROC en el conjunto de prueba: {test_roc_auc}\")"
   ]
  },
  {
   "cell_type": "markdown",
   "metadata": {},
   "source": [
    "Al evaluar el desempeño del modelo de **RandomForestClassifier**, se puede apreciar los siguientes resultados:\n",
    "\n",
    "- En el conjunto de prueba se logró obtener en F1-score un **59.74%**, mientras que en el conjunto de validación fue de **54.28%**. El F1-score es una métrica que equilibra la precisión y la sensibilidad, por lo que un resultado en torno al 60% indica que el modelo tiene dificultades para predecir correctamente la clase positiva, en este caso sería los usuarios que abandonan. Esto sugiere que, aunque el modelo tiene cierto poder predictivo. Este podría estar fallando en identificar de manera precisa a los usuarios que efectivamente abandonan el banco.\n",
    "\n",
    "- El modelo se obtuvo un AUC-ROC de **85.09%** en el conjunto de prueba y **84.22%** en el conjunto de validación. El AUC-ROC es una métrica que mide la capacidad del modelo para distinguir entre clases, usuarios que abandonan y los que no. Un valor cercano al **85%** indica que el modelo tiene un buen rendimiento en general para separar las clases, lo que significa que es relativamente efectivo para predecir tanto abandonos como no abandonos. Sin embargo, dado que el AUC-ROC mide el área bajo la curva ROC, esta métrica puede estar sesgada hacia la clase mayoritaria, lo que sugiere que el modelo está mejor optimizado para predecir los usuarios que no abandonan, en  este caso sería la clase negativa. "
   ]
  },
  {
   "cell_type": "markdown",
   "metadata": {},
   "source": [
    "# 4. Correción del desequilibrio de clases "
   ]
  },
  {
   "cell_type": "code",
   "execution_count": 14,
   "metadata": {},
   "outputs": [
    {
     "name": "stdout",
     "output_type": "stream",
     "text": [
      "F1-Score (validación, sobremuestreo): 0.5872340425531914\n",
      "AUC-ROC (validación, sobremuestreo): 0.84421796875\n",
      "Exactitud en el conjunto de validación (sobremuestreo): 0.8545\n"
     ]
    }
   ],
   "source": [
    "# Combinar características y objetivo en un solo DataFrame\n",
    "train_data = pd.concat([features_train, target_train], axis=1)\n",
    "\n",
    "# Separar las clases\n",
    "class_0 = train_data[train_data['Exited'] == 0]\n",
    "class_1 = train_data[train_data['Exited'] == 1]\n",
    "\n",
    "# Sobremuestreo de la clase minoritaria\n",
    "class_1_oversampled = resample(class_1, replace=True, n_samples=len(class_0), random_state=12345)\n",
    "\n",
    "# Combinar las clases\n",
    "train_oversampled = pd.concat([class_0, class_1_oversampled])\n",
    "\n",
    "# Separar nuevamente características y objetivo\n",
    "features_train_oversampled = train_oversampled.drop(columns=['Exited'])\n",
    "target_train_oversampled = train_oversampled['Exited']\n",
    "\n",
    "# Entrenar el modelo con los datos balanceados\n",
    "model_oversampled = RandomForestClassifier(random_state=12345)\n",
    "model_oversampled.fit(features_train_oversampled, target_train_oversampled)\n",
    "\n",
    "\n",
    "\n",
    "# Evaluar en el conjunto de validación\n",
    "pred_valid_oversampled = model_oversampled.predict(features_valid)\n",
    "f1_valid_oversampled = f1_score(target_valid, pred_valid_oversampled)\n",
    "roc_auc_valid_oversampled = roc_auc_score(target_valid, model_oversampled.predict_proba(features_valid)[:, 1])\n",
    "\n",
    "# Calcular la exactitud en el conjunto de validación\n",
    "valid_score_oversampled = model_oversampled.score(features_valid, target_valid)\n",
    "\n",
    "# Imprimir resultados\n",
    "print(f\"F1-Score (validación, sobremuestreo): {f1_valid_oversampled}\")\n",
    "print(f\"AUC-ROC (validación, sobremuestreo): {roc_auc_valid_oversampled}\")\n",
    "print(f\"Exactitud en el conjunto de validación (sobremuestreo): {valid_score_oversampled}\")\n",
    "\n",
    "#Fuente: https://scikit-learn.org/stable/modules/generated/sklearn.utils.resample.html"
   ]
  },
  {
   "cell_type": "markdown",
   "metadata": {},
   "source": [
    "Con los resultados que se obtuvieron en la función **resample** se pudo observar lo siguiente:\n",
    "\n",
    "- Se obtuvo una exactitud del 85.45% lo cual sugiere que es alta. Por lo general, nos indica que hace las predicciones son correctas pero esto podría estar sesgado hacia la clase mayorista. En este caso sería a los que no se han salido del banco.\n",
    "- Con la función de AUC-ROC se logró obtener un **58.72%** Lo que puede sugerir que el modelo no es completamente efectivo para predecir a los usuarios que abandonan (clase positiva).\n",
    "- En el caso F1-score se logró obtener **58.72%** lo que sugiere que el modelo aún tiene dificultades para equilibrar la predicción de usuarios que abandonan. Podría ser necesario mejorar el recall o la precisión de esta clase."
   ]
  },
  {
   "cell_type": "code",
   "execution_count": 16,
   "metadata": {},
   "outputs": [
    {
     "name": "stdout",
     "output_type": "stream",
     "text": [
      "F1-score en el conjunto de validación: 0.5379537953795379\n",
      "AUC-ROC en el conjunto de validación: 0.8480085937499999\n",
      "\n",
      "\n",
      "F1-score en el conjunto de prueba: 0.6000000000000001\n",
      "AUC-ROC en el conjunto de prueba: 0.8577396825396826\n"
     ]
    }
   ],
   "source": [
    "data_one_encoded = pd.get_dummies(data_one, drop_first=True)\n",
    "\n",
    "# Dividir el dataset usando los datos codificados\n",
    "train_data, temp_data = train_test_split(data_one_encoded, test_size=0.4, random_state=54321)\n",
    "valid_data, test_data = train_test_split(temp_data, test_size=0.5, random_state=54321)\n",
    "\n",
    "# Separar las características (features) y la variable objetivo (target)\n",
    "features_train = train_data.drop(['Exited'], axis=1)\n",
    "target_train = train_data['Exited']\n",
    "\n",
    "features_valid = valid_data.drop(['Exited'], axis=1)\n",
    "target_valid = valid_data['Exited']\n",
    "\n",
    "features_test = test_data.drop(['Exited'], axis=1)\n",
    "target_test = test_data['Exited']\n",
    "\n",
    "# Escalar las características numéricas\n",
    "scaler = StandardScaler()\n",
    "numeric_features = ['CreditScore', 'Age', 'Tenure', 'Balance', 'NumOfProducts', 'EstimatedSalary']\n",
    "\n",
    "# Escalar los datos numéricos\n",
    "features_train[numeric_features] = scaler.fit_transform(features_train[numeric_features])\n",
    "features_valid[numeric_features] = scaler.transform(features_valid[numeric_features])\n",
    "features_test[numeric_features] = scaler.transform(features_test[numeric_features])\n",
    "\n",
    "\n",
    "# Entrenar el modelo\n",
    "best_model = RandomForestClassifier(n_estimators=100, random_state=54321, class_weight='balanced')\n",
    "best_model.fit(features_train, target_train)\n",
    "\n",
    "\n",
    "# Evaluación en el conjunto de validación\n",
    "valid_predictions = best_model.predict(features_valid)\n",
    "valid_f1 = f1_score(target_valid, valid_predictions)\n",
    "valid_roc_auc = roc_auc_score(target_valid, best_model.predict_proba(features_valid)[:, 1])\n",
    "\n",
    "print(f\"F1-score en el conjunto de validación: {valid_f1}\")\n",
    "print(f\"AUC-ROC en el conjunto de validación: {valid_roc_auc}\")\n",
    "\n",
    "print()\n",
    "print() \n",
    "\n",
    "# Evaluar en el conjunto de prueba\n",
    "test_predictions = best_model.predict(features_test)\n",
    "test_f1 = f1_score(target_test, test_predictions)\n",
    "test_roc_auc = roc_auc_score(target_test, best_model.predict_proba(features_test)[:, 1])\n",
    "\n",
    "print(f\"F1-score en el conjunto de prueba: {test_f1}\")\n",
    "print(f\"AUC-ROC en el conjunto de prueba: {test_roc_auc}\")"
   ]
  }
 ],
 "metadata": {
  "ExecuteTimeLog": [
   {
    "duration": 2538,
    "start_time": "2024-09-26T20:35:34.505Z"
   },
   {
    "duration": 814,
    "start_time": "2024-09-26T20:35:44.295Z"
   },
   {
    "duration": 29,
    "start_time": "2024-09-26T20:35:55.458Z"
   },
   {
    "duration": 38,
    "start_time": "2024-09-26T20:36:36.763Z"
   },
   {
    "duration": 34,
    "start_time": "2024-09-26T20:37:04.324Z"
   },
   {
    "duration": 2,
    "start_time": "2024-09-26T20:37:26.369Z"
   },
   {
    "duration": 800,
    "start_time": "2024-09-26T20:37:57.992Z"
   },
   {
    "duration": 20,
    "start_time": "2024-09-26T20:38:00.996Z"
   },
   {
    "duration": 37,
    "start_time": "2024-09-26T20:38:03.659Z"
   },
   {
    "duration": 11,
    "start_time": "2024-09-26T20:38:36.525Z"
   },
   {
    "duration": 211,
    "start_time": "2024-09-26T20:39:23.655Z"
   },
   {
    "duration": 10,
    "start_time": "2024-09-26T20:42:00.241Z"
   },
   {
    "duration": 8,
    "start_time": "2024-09-26T20:42:29.345Z"
   },
   {
    "duration": 229,
    "start_time": "2024-09-26T20:43:01.734Z"
   },
   {
    "duration": 6,
    "start_time": "2024-09-26T20:43:12.471Z"
   },
   {
    "duration": 2683,
    "start_time": "2024-09-30T19:36:28.519Z"
   },
   {
    "duration": 22,
    "start_time": "2024-09-30T19:36:31.204Z"
   },
   {
    "duration": 36,
    "start_time": "2024-09-30T19:36:33.960Z"
   },
   {
    "duration": 10,
    "start_time": "2024-09-30T19:36:37.670Z"
   },
   {
    "duration": 9,
    "start_time": "2024-09-30T19:36:40.885Z"
   },
   {
    "duration": 5,
    "start_time": "2024-09-30T19:36:44.237Z"
   },
   {
    "duration": 4,
    "start_time": "2024-09-30T19:49:56.768Z"
   },
   {
    "duration": 4,
    "start_time": "2024-09-30T19:50:24.904Z"
   },
   {
    "duration": 13,
    "start_time": "2024-09-30T19:50:40.757Z"
   },
   {
    "duration": 13,
    "start_time": "2024-09-30T19:50:51.945Z"
   },
   {
    "duration": 362,
    "start_time": "2024-09-30T19:52:03.187Z"
   },
   {
    "duration": 455,
    "start_time": "2024-09-30T19:53:18.123Z"
   },
   {
    "duration": 373,
    "start_time": "2024-09-30T19:53:29.994Z"
   },
   {
    "duration": 92,
    "start_time": "2024-09-30T19:53:57.075Z"
   },
   {
    "duration": 1012,
    "start_time": "2024-09-30T19:55:00.785Z"
   },
   {
    "duration": 16,
    "start_time": "2024-09-30T19:55:02.086Z"
   },
   {
    "duration": 37,
    "start_time": "2024-09-30T19:55:02.988Z"
   },
   {
    "duration": 10,
    "start_time": "2024-09-30T19:55:03.362Z"
   },
   {
    "duration": 9,
    "start_time": "2024-09-30T19:55:04.324Z"
   },
   {
    "duration": 5,
    "start_time": "2024-09-30T19:55:04.912Z"
   },
   {
    "duration": 390,
    "start_time": "2024-09-30T19:55:05.436Z"
   },
   {
    "duration": 4,
    "start_time": "2024-09-30T19:55:06.059Z"
   },
   {
    "duration": 371,
    "start_time": "2024-09-30T19:55:07.422Z"
   },
   {
    "duration": 8,
    "start_time": "2024-09-30T20:12:55.349Z"
   },
   {
    "duration": 7,
    "start_time": "2024-09-30T20:13:54.861Z"
   },
   {
    "duration": 235,
    "start_time": "2024-09-30T20:14:36.794Z"
   },
   {
    "duration": 11,
    "start_time": "2024-09-30T20:14:43.478Z"
   },
   {
    "duration": 3,
    "start_time": "2024-09-30T20:17:44.895Z"
   },
   {
    "duration": 13,
    "start_time": "2024-09-30T20:24:30.904Z"
   },
   {
    "duration": 13,
    "start_time": "2024-09-30T20:56:13.412Z"
   },
   {
    "duration": 3,
    "start_time": "2024-09-30T20:58:38.772Z"
   },
   {
    "duration": 989,
    "start_time": "2024-09-30T21:00:53.598Z"
   },
   {
    "duration": 16,
    "start_time": "2024-09-30T21:00:54.589Z"
   },
   {
    "duration": 36,
    "start_time": "2024-09-30T21:00:55.396Z"
   },
   {
    "duration": 9,
    "start_time": "2024-09-30T21:00:55.837Z"
   },
   {
    "duration": 8,
    "start_time": "2024-09-30T21:00:56.728Z"
   },
   {
    "duration": 6,
    "start_time": "2024-09-30T21:00:57.214Z"
   },
   {
    "duration": 367,
    "start_time": "2024-09-30T21:00:57.790Z"
   },
   {
    "duration": 4,
    "start_time": "2024-09-30T21:00:58.235Z"
   },
   {
    "duration": 383,
    "start_time": "2024-09-30T21:00:58.767Z"
   },
   {
    "duration": 10,
    "start_time": "2024-09-30T21:01:01.660Z"
   },
   {
    "duration": 13,
    "start_time": "2024-09-30T21:01:02.833Z"
   },
   {
    "duration": 7,
    "start_time": "2024-09-30T21:24:41.699Z"
   },
   {
    "duration": 981,
    "start_time": "2024-09-30T21:25:00.532Z"
   },
   {
    "duration": 17,
    "start_time": "2024-09-30T21:25:01.515Z"
   },
   {
    "duration": 38,
    "start_time": "2024-09-30T21:25:01.805Z"
   },
   {
    "duration": 9,
    "start_time": "2024-09-30T21:25:01.987Z"
   },
   {
    "duration": 8,
    "start_time": "2024-09-30T21:25:02.374Z"
   },
   {
    "duration": 6,
    "start_time": "2024-09-30T21:25:02.606Z"
   },
   {
    "duration": 361,
    "start_time": "2024-09-30T21:25:02.786Z"
   },
   {
    "duration": 4,
    "start_time": "2024-09-30T21:25:03.149Z"
   },
   {
    "duration": 364,
    "start_time": "2024-09-30T21:25:03.386Z"
   },
   {
    "duration": 10,
    "start_time": "2024-09-30T21:25:05.586Z"
   },
   {
    "duration": 5,
    "start_time": "2024-09-30T21:25:06.965Z"
   },
   {
    "duration": 13,
    "start_time": "2024-09-30T21:25:21.160Z"
   },
   {
    "duration": 22,
    "start_time": "2024-09-30T21:29:01.461Z"
   },
   {
    "duration": 23,
    "start_time": "2024-09-30T21:30:41.730Z"
   },
   {
    "duration": 41,
    "start_time": "2024-09-30T21:35:17.093Z"
   },
   {
    "duration": 39,
    "start_time": "2024-09-30T21:35:29.263Z"
   },
   {
    "duration": 4,
    "start_time": "2024-09-30T21:52:50.781Z"
   },
   {
    "duration": 180,
    "start_time": "2024-09-30T22:02:15.726Z"
   },
   {
    "duration": 2739,
    "start_time": "2024-10-02T16:00:35.953Z"
   },
   {
    "duration": 20,
    "start_time": "2024-10-02T16:00:42.548Z"
   },
   {
    "duration": 37,
    "start_time": "2024-10-02T16:00:45.141Z"
   },
   {
    "duration": 8,
    "start_time": "2024-10-02T16:00:48.629Z"
   },
   {
    "duration": 5,
    "start_time": "2024-10-02T16:00:49.197Z"
   },
   {
    "duration": 511,
    "start_time": "2024-10-02T16:00:50.863Z"
   },
   {
    "duration": 4,
    "start_time": "2024-10-02T16:00:51.582Z"
   },
   {
    "duration": 12,
    "start_time": "2024-10-02T16:00:57.164Z"
   },
   {
    "duration": 44,
    "start_time": "2024-10-02T16:01:00.061Z"
   },
   {
    "duration": 2676,
    "start_time": "2024-10-02T20:50:19.903Z"
   },
   {
    "duration": 19,
    "start_time": "2024-10-02T20:50:22.581Z"
   },
   {
    "duration": 37,
    "start_time": "2024-10-02T20:50:25.520Z"
   },
   {
    "duration": 10,
    "start_time": "2024-10-02T20:50:25.890Z"
   },
   {
    "duration": 8,
    "start_time": "2024-10-02T20:50:27.559Z"
   },
   {
    "duration": 7,
    "start_time": "2024-10-02T20:50:27.912Z"
   },
   {
    "duration": 430,
    "start_time": "2024-10-02T20:50:28.332Z"
   },
   {
    "duration": 4,
    "start_time": "2024-10-02T20:50:28.900Z"
   },
   {
    "duration": 356,
    "start_time": "2024-10-02T20:50:29.478Z"
   },
   {
    "duration": 11,
    "start_time": "2024-10-02T20:50:33.075Z"
   },
   {
    "duration": 42,
    "start_time": "2024-10-02T20:50:35.022Z"
   },
   {
    "duration": 7,
    "start_time": "2024-10-02T20:50:41.946Z"
   },
   {
    "duration": 286,
    "start_time": "2024-10-02T20:50:48.879Z"
   },
   {
    "duration": 660,
    "start_time": "2024-10-02T20:51:00.813Z"
   },
   {
    "duration": 98,
    "start_time": "2024-10-02T20:52:10.143Z"
   },
   {
    "duration": 62,
    "start_time": "2024-10-02T20:52:22.932Z"
   },
   {
    "duration": 48,
    "start_time": "2024-10-02T20:52:40.786Z"
   },
   {
    "duration": 981,
    "start_time": "2024-10-02T20:52:55.238Z"
   },
   {
    "duration": 16,
    "start_time": "2024-10-02T20:52:56.221Z"
   },
   {
    "duration": 36,
    "start_time": "2024-10-02T20:52:56.555Z"
   },
   {
    "duration": 9,
    "start_time": "2024-10-02T20:52:56.764Z"
   },
   {
    "duration": 8,
    "start_time": "2024-10-02T20:52:57.661Z"
   },
   {
    "duration": 5,
    "start_time": "2024-10-02T20:52:57.671Z"
   },
   {
    "duration": 394,
    "start_time": "2024-10-02T20:52:57.845Z"
   },
   {
    "duration": 5,
    "start_time": "2024-10-02T20:52:58.240Z"
   },
   {
    "duration": 373,
    "start_time": "2024-10-02T20:52:58.287Z"
   },
   {
    "duration": 10,
    "start_time": "2024-10-02T20:53:00.244Z"
   },
   {
    "duration": 42,
    "start_time": "2024-10-02T20:53:00.727Z"
   },
   {
    "duration": 4,
    "start_time": "2024-10-02T20:53:02.333Z"
   },
   {
    "duration": 618,
    "start_time": "2024-10-02T20:53:04.355Z"
   },
   {
    "duration": 36,
    "start_time": "2024-10-02T20:53:18.452Z"
   },
   {
    "duration": 33,
    "start_time": "2024-10-02T20:54:51.108Z"
   },
   {
    "duration": 3,
    "start_time": "2024-10-02T21:09:18.528Z"
   },
   {
    "duration": 936,
    "start_time": "2024-10-02T21:11:26.268Z"
   },
   {
    "duration": 20,
    "start_time": "2024-10-02T21:11:27.207Z"
   },
   {
    "duration": 37,
    "start_time": "2024-10-02T21:11:28.485Z"
   },
   {
    "duration": 9,
    "start_time": "2024-10-02T21:11:28.955Z"
   },
   {
    "duration": 8,
    "start_time": "2024-10-02T21:11:30.740Z"
   },
   {
    "duration": 6,
    "start_time": "2024-10-02T21:11:31.613Z"
   },
   {
    "duration": 5,
    "start_time": "2024-10-02T21:11:32.281Z"
   },
   {
    "duration": 376,
    "start_time": "2024-10-02T21:11:33.319Z"
   },
   {
    "duration": 366,
    "start_time": "2024-10-02T21:12:53.266Z"
   },
   {
    "duration": 936,
    "start_time": "2024-10-02T21:14:06.195Z"
   },
   {
    "duration": 15,
    "start_time": "2024-10-02T21:14:07.255Z"
   },
   {
    "duration": 37,
    "start_time": "2024-10-02T21:14:09.067Z"
   },
   {
    "duration": 14,
    "start_time": "2024-10-02T21:14:09.493Z"
   },
   {
    "duration": 8,
    "start_time": "2024-10-02T21:14:11.123Z"
   },
   {
    "duration": 6,
    "start_time": "2024-10-02T21:14:11.623Z"
   },
   {
    "duration": 367,
    "start_time": "2024-10-02T21:14:12.179Z"
   },
   {
    "duration": 4,
    "start_time": "2024-10-02T21:14:30.303Z"
   },
   {
    "duration": 138,
    "start_time": "2024-10-02T21:15:13.800Z"
   },
   {
    "duration": 307,
    "start_time": "2024-10-02T21:16:52.681Z"
   },
   {
    "duration": 5,
    "start_time": "2024-10-02T21:18:29.892Z"
   },
   {
    "duration": 14,
    "start_time": "2024-10-02T21:18:30.455Z"
   },
   {
    "duration": 33,
    "start_time": "2024-10-02T21:18:31.074Z"
   },
   {
    "duration": 10,
    "start_time": "2024-10-02T21:18:31.272Z"
   },
   {
    "duration": 9,
    "start_time": "2024-10-02T21:18:32.432Z"
   },
   {
    "duration": 5,
    "start_time": "2024-10-02T21:18:32.859Z"
   },
   {
    "duration": 121,
    "start_time": "2024-10-02T21:18:33.460Z"
   },
   {
    "duration": 244,
    "start_time": "2024-10-02T21:18:34.290Z"
   },
   {
    "duration": 10,
    "start_time": "2024-10-02T21:19:46.398Z"
   },
   {
    "duration": 102,
    "start_time": "2024-10-02T21:19:53.732Z"
   },
   {
    "duration": 7,
    "start_time": "2024-10-02T21:19:59.515Z"
   },
   {
    "duration": 35,
    "start_time": "2024-10-02T21:20:02.988Z"
   },
   {
    "duration": 2360,
    "start_time": "2024-10-02T21:24:17.766Z"
   },
   {
    "duration": 42,
    "start_time": "2024-10-02T21:27:55.728Z"
   },
   {
    "duration": 192,
    "start_time": "2024-10-02T22:08:06.552Z"
   },
   {
    "duration": 25,
    "start_time": "2024-10-02T22:08:24.218Z"
   },
   {
    "duration": 15,
    "start_time": "2024-10-02T22:09:05.990Z"
   },
   {
    "duration": 8872,
    "start_time": "2024-10-02T22:10:01.045Z"
   },
   {
    "duration": 4,
    "start_time": "2024-10-02T22:10:32.807Z"
   },
   {
    "duration": 1399,
    "start_time": "2024-10-02T22:11:01.281Z"
   },
   {
    "duration": 973,
    "start_time": "2024-10-02T22:11:55.652Z"
   },
   {
    "duration": 16,
    "start_time": "2024-10-02T22:11:56.628Z"
   },
   {
    "duration": 37,
    "start_time": "2024-10-02T22:11:57.161Z"
   },
   {
    "duration": 14,
    "start_time": "2024-10-02T22:11:57.505Z"
   },
   {
    "duration": 9,
    "start_time": "2024-10-02T22:11:58.669Z"
   },
   {
    "duration": 6,
    "start_time": "2024-10-02T22:11:59.031Z"
   },
   {
    "duration": 130,
    "start_time": "2024-10-02T22:11:59.458Z"
   },
   {
    "duration": 222,
    "start_time": "2024-10-02T22:11:59.946Z"
   },
   {
    "duration": 4,
    "start_time": "2024-10-02T22:12:01.248Z"
   },
   {
    "duration": 10,
    "start_time": "2024-10-02T22:12:03.209Z"
   },
   {
    "duration": 272,
    "start_time": "2024-10-02T22:12:04.628Z"
   },
   {
    "duration": 5,
    "start_time": "2024-10-02T22:12:07.201Z"
   },
   {
    "duration": 274,
    "start_time": "2024-10-02T22:12:09.883Z"
   },
   {
    "duration": 19,
    "start_time": "2024-10-02T22:12:11.919Z"
   },
   {
    "duration": 15,
    "start_time": "2024-10-02T22:12:58.417Z"
   },
   {
    "duration": 2294,
    "start_time": "2024-10-02T22:13:17.816Z"
   },
   {
    "duration": 0,
    "start_time": "2024-10-02T22:55:48.287Z"
   },
   {
    "duration": 0,
    "start_time": "2024-10-02T22:55:48.288Z"
   },
   {
    "duration": 18,
    "start_time": "2024-10-02T22:55:48.815Z"
   },
   {
    "duration": 17,
    "start_time": "2024-10-02T22:55:49.011Z"
   },
   {
    "duration": 14,
    "start_time": "2024-10-02T22:55:49.658Z"
   },
   {
    "duration": 18,
    "start_time": "2024-10-02T22:55:50.366Z"
   },
   {
    "duration": 16,
    "start_time": "2024-10-02T22:55:50.985Z"
   },
   {
    "duration": 16,
    "start_time": "2024-10-02T22:55:51.514Z"
   },
   {
    "duration": 20,
    "start_time": "2024-10-02T22:55:52.961Z"
   },
   {
    "duration": 16,
    "start_time": "2024-10-02T22:55:56.714Z"
   },
   {
    "duration": 1050,
    "start_time": "2024-10-02T22:56:11.624Z"
   },
   {
    "duration": 28,
    "start_time": "2024-10-02T22:56:12.730Z"
   },
   {
    "duration": 37,
    "start_time": "2024-10-02T22:56:14.151Z"
   },
   {
    "duration": 9,
    "start_time": "2024-10-02T22:56:14.368Z"
   },
   {
    "duration": 9,
    "start_time": "2024-10-02T22:56:15.070Z"
   },
   {
    "duration": 6,
    "start_time": "2024-10-02T22:56:15.307Z"
   },
   {
    "duration": 136,
    "start_time": "2024-10-02T22:56:15.524Z"
   },
   {
    "duration": 273,
    "start_time": "2024-10-02T22:56:15.887Z"
   },
   {
    "duration": 3,
    "start_time": "2024-10-02T22:56:17.026Z"
   },
   {
    "duration": 11,
    "start_time": "2024-10-02T22:56:19.189Z"
   },
   {
    "duration": 264,
    "start_time": "2024-10-02T22:56:20.524Z"
   },
   {
    "duration": 6,
    "start_time": "2024-10-02T22:56:21.838Z"
   },
   {
    "duration": 268,
    "start_time": "2024-10-02T22:56:23.727Z"
   },
   {
    "duration": 831,
    "start_time": "2024-10-02T22:56:25.835Z"
   },
   {
    "duration": 2648,
    "start_time": "2024-10-07T14:38:12.943Z"
   },
   {
    "duration": 26,
    "start_time": "2024-10-07T14:38:15.595Z"
   },
   {
    "duration": 39,
    "start_time": "2024-10-07T14:38:16.629Z"
   },
   {
    "duration": 10,
    "start_time": "2024-10-07T14:38:17.484Z"
   },
   {
    "duration": 8,
    "start_time": "2024-10-07T14:38:19.686Z"
   },
   {
    "duration": 6,
    "start_time": "2024-10-07T14:38:20.746Z"
   },
   {
    "duration": 144,
    "start_time": "2024-10-07T14:38:21.696Z"
   },
   {
    "duration": 242,
    "start_time": "2024-10-07T14:38:22.887Z"
   },
   {
    "duration": 3,
    "start_time": "2024-10-07T14:38:27.698Z"
   },
   {
    "duration": 10,
    "start_time": "2024-10-07T14:38:30.429Z"
   },
   {
    "duration": 322,
    "start_time": "2024-10-07T14:38:33.331Z"
   },
   {
    "duration": 41,
    "start_time": "2024-10-07T14:38:59.863Z"
   },
   {
    "duration": 29,
    "start_time": "2024-10-07T14:40:43.097Z"
   },
   {
    "duration": 10,
    "start_time": "2024-10-07T14:40:48.922Z"
   },
   {
    "duration": 275,
    "start_time": "2024-10-07T14:41:01.604Z"
   },
   {
    "duration": 28,
    "start_time": "2024-10-07T15:02:21.032Z"
   },
   {
    "duration": 21,
    "start_time": "2024-10-07T15:02:31.752Z"
   },
   {
    "duration": 850,
    "start_time": "2024-10-07T16:06:11.450Z"
   },
   {
    "duration": 846,
    "start_time": "2024-10-07T16:15:09.512Z"
   },
   {
    "duration": 2915,
    "start_time": "2024-10-10T01:27:08.410Z"
   },
   {
    "duration": 0,
    "start_time": "2024-10-10T01:27:11.327Z"
   },
   {
    "duration": 13,
    "start_time": "2024-10-10T01:27:11.692Z"
   },
   {
    "duration": 15,
    "start_time": "2024-10-10T01:27:12.308Z"
   },
   {
    "duration": 20,
    "start_time": "2024-10-10T01:27:19.557Z"
   },
   {
    "duration": 37,
    "start_time": "2024-10-10T01:27:20.880Z"
   },
   {
    "duration": 10,
    "start_time": "2024-10-10T01:27:21.294Z"
   },
   {
    "duration": 8,
    "start_time": "2024-10-10T01:27:22.627Z"
   },
   {
    "duration": 5,
    "start_time": "2024-10-10T01:27:23.124Z"
   },
   {
    "duration": 475,
    "start_time": "2024-10-10T01:27:23.672Z"
   },
   {
    "duration": 12,
    "start_time": "2024-10-10T01:27:31.605Z"
   },
   {
    "duration": 31,
    "start_time": "2024-10-10T01:27:35.865Z"
   },
   {
    "duration": 5,
    "start_time": "2024-10-10T01:27:40.888Z"
   },
   {
    "duration": 2394,
    "start_time": "2024-10-10T01:27:43.793Z"
   },
   {
    "duration": 20,
    "start_time": "2024-10-10T02:10:26.985Z"
   },
   {
    "duration": 3,
    "start_time": "2024-10-10T02:10:53.894Z"
   },
   {
    "duration": 18,
    "start_time": "2024-10-10T02:10:55.380Z"
   },
   {
    "duration": 9581,
    "start_time": "2024-10-15T14:35:21.241Z"
   },
   {
    "duration": 3234,
    "start_time": "2024-10-15T14:35:30.824Z"
   },
   {
    "duration": 1429,
    "start_time": "2024-10-15T14:37:02.790Z"
   },
   {
    "duration": 25,
    "start_time": "2024-10-15T14:37:07.190Z"
   },
   {
    "duration": 1435,
    "start_time": "2024-10-15T14:40:18.396Z"
   },
   {
    "duration": 1374,
    "start_time": "2024-10-15T14:40:20.658Z"
   },
   {
    "duration": 1517,
    "start_time": "2024-10-15T14:42:29.482Z"
   },
   {
    "duration": 20413,
    "start_time": "2024-10-15T14:43:23.444Z"
   },
   {
    "duration": 1598,
    "start_time": "2024-10-15T14:44:18.488Z"
   },
   {
    "duration": 23,
    "start_time": "2024-10-15T14:44:25.497Z"
   },
   {
    "duration": 21,
    "start_time": "2024-10-15T14:45:14.450Z"
   },
   {
    "duration": 1528,
    "start_time": "2024-10-15T14:46:13.883Z"
   },
   {
    "duration": 1274,
    "start_time": "2024-10-15T14:46:32.314Z"
   },
   {
    "duration": 20,
    "start_time": "2024-10-15T14:56:07.974Z"
   },
   {
    "duration": 39,
    "start_time": "2024-10-15T14:56:09.210Z"
   },
   {
    "duration": 9,
    "start_time": "2024-10-15T14:56:09.615Z"
   },
   {
    "duration": 11,
    "start_time": "2024-10-15T14:56:10.754Z"
   },
   {
    "duration": 5,
    "start_time": "2024-10-15T14:56:11.276Z"
   },
   {
    "duration": 367,
    "start_time": "2024-10-15T14:56:11.828Z"
   },
   {
    "duration": 3,
    "start_time": "2024-10-15T14:59:04.779Z"
   },
   {
    "duration": 25,
    "start_time": "2024-10-15T14:59:06.919Z"
   },
   {
    "duration": 26,
    "start_time": "2024-10-15T14:59:08.901Z"
   },
   {
    "duration": 12,
    "start_time": "2024-10-15T14:59:18.986Z"
   },
   {
    "duration": 305,
    "start_time": "2024-10-15T14:59:22.881Z"
   },
   {
    "duration": 882,
    "start_time": "2024-10-15T14:59:34.260Z"
   },
   {
    "duration": 31,
    "start_time": "2024-10-15T14:59:51.239Z"
   },
   {
    "duration": 275,
    "start_time": "2024-10-15T15:03:46.457Z"
   },
   {
    "duration": 99,
    "start_time": "2024-10-15T16:21:12.439Z"
   },
   {
    "duration": 372,
    "start_time": "2024-10-15T16:22:26.678Z"
   },
   {
    "duration": 401,
    "start_time": "2024-10-15T16:23:12.894Z"
   },
   {
    "duration": 163,
    "start_time": "2024-10-15T16:23:26.297Z"
   },
   {
    "duration": 1090,
    "start_time": "2024-10-15T16:23:37.107Z"
   },
   {
    "duration": 16,
    "start_time": "2024-10-15T16:23:39.920Z"
   },
   {
    "duration": 37,
    "start_time": "2024-10-15T16:23:40.549Z"
   },
   {
    "duration": 10,
    "start_time": "2024-10-15T16:23:40.987Z"
   },
   {
    "duration": 8,
    "start_time": "2024-10-15T16:23:41.725Z"
   },
   {
    "duration": 6,
    "start_time": "2024-10-15T16:23:42.065Z"
   },
   {
    "duration": 370,
    "start_time": "2024-10-15T16:23:42.272Z"
   },
   {
    "duration": 3,
    "start_time": "2024-10-15T16:23:50.936Z"
   },
   {
    "duration": 18,
    "start_time": "2024-10-15T16:23:55.580Z"
   },
   {
    "duration": 27,
    "start_time": "2024-10-15T16:24:03.053Z"
   },
   {
    "duration": 5,
    "start_time": "2024-10-15T16:24:07.417Z"
   },
   {
    "duration": 299,
    "start_time": "2024-10-15T16:33:27.764Z"
   },
   {
    "duration": 289,
    "start_time": "2024-10-15T16:42:42.177Z"
   },
   {
    "duration": 290,
    "start_time": "2024-10-15T16:43:03.274Z"
   },
   {
    "duration": 674,
    "start_time": "2024-10-15T16:47:53.988Z"
   }
  ],
  "kernelspec": {
   "display_name": "Python 3 (ipykernel)",
   "language": "python",
   "name": "python3"
  },
  "language_info": {
   "codemirror_mode": {
    "name": "ipython",
    "version": 3
   },
   "file_extension": ".py",
   "mimetype": "text/x-python",
   "name": "python",
   "nbconvert_exporter": "python",
   "pygments_lexer": "ipython3",
   "version": "3.9.19"
  },
  "toc": {
   "base_numbering": 1,
   "nav_menu": {},
   "number_sections": true,
   "sideBar": true,
   "skip_h1_title": true,
   "title_cell": "Table of Contents",
   "title_sidebar": "Contents",
   "toc_cell": false,
   "toc_position": {},
   "toc_section_display": true,
   "toc_window_display": false
  }
 },
 "nbformat": 4,
 "nbformat_minor": 2
}
